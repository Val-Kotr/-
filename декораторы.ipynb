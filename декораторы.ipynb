{
  "nbformat": 4,
  "nbformat_minor": 0,
  "metadata": {
    "colab": {
      "name": "декораторы",
      "provenance": [],
      "collapsed_sections": []
    },
    "kernelspec": {
      "name": "python3",
      "display_name": "Python 3"
    }
  },
  "cells": [
    {
      "cell_type": "markdown",
      "metadata": {
        "id": "uorpXOTQaPb-",
        "colab_type": "text"
      },
      "source": [
        "Упражнение 1"
      ]
    },
    {
      "cell_type": "code",
      "metadata": {
        "id": "ocmuGqy_ikFA",
        "colab_type": "code",
        "outputId": "48a3c926-4435-4403-acd2-7ad2a3a90fff",
        "colab": {
          "base_uri": "https://localhost:8080/",
          "height": 51
        }
      },
      "source": [
        "def my_shiny_new_decorator(function_to_decorate):\n",
        "\n",
        "  def the_wrapper_around_the_original_function(spisok):\n",
        "    s = function_to_decorate(spisok)\n",
        "    if s == 0:\n",
        "      print(\"Нет(\")\n",
        "    elif s > 10:\n",
        "      print(\"Очень много\")\n",
        "    else:\n",
        "      print(s)\n",
        "  return the_wrapper_around_the_original_function\n",
        "\n",
        "@my_shiny_new_decorator\n",
        "def chisla(spisok):\n",
        "  count_chet = 0\n",
        "  for i in (list(spisok)):\n",
        "    if int(i) % 2 == 0:\n",
        "      count_chet+=1\n",
        "  return count_chet\n",
        "\n",
        "nums = list(map(int,input('Введите числа через пробел: ').split()))\n",
        "chisla(nums)\n"
      ],
      "execution_count": 0,
      "outputs": [
        {
          "output_type": "stream",
          "text": [
            "Введите числа серез пробел: 2 4 6 8 4 2 5 4 2 4 6 8 5 3 2 567 554 332 334 554 \n",
            "Очень много\n"
          ],
          "name": "stdout"
        }
      ]
    },
    {
      "cell_type": "markdown",
      "metadata": {
        "id": "tsf_2O-7XRBM",
        "colab_type": "text"
      },
      "source": [
        "Упражнение 2"
      ]
    },
    {
      "cell_type": "code",
      "metadata": {
        "id": "VkCXtS-SXTqu",
        "colab_type": "code",
        "outputId": "cb455583-4651-4f23-90c3-d3d59ecab656",
        "colab": {
          "base_uri": "https://localhost:8080/",
          "height": 34
        }
      },
      "source": [
        "def dec(func):\n",
        "  def vector_func(self, other):\n",
        "    Third = func(self, other)\n",
        "    print(\"(\",self.x,\",\",self.y,\")+(\",other.x,\",\",other.y,\") =\",\"(\", Third.x, \",\",Third.y,\")\")\n",
        "  return vector_func\n",
        "class vector:\n",
        "    def __init__(self, x = 0, y = 0):\n",
        "        self.x = x\n",
        "        self.y = y\n",
        "    @dec\n",
        "    def __add__(self, other):\n",
        "        return vector(self.x + other.x, self.y + other.y)\n",
        "First = vector(367, 3)\n",
        "Second = vector(33, 5)\n",
        "Third = First + Second"
      ],
      "execution_count": 19,
      "outputs": [
        {
          "output_type": "stream",
          "text": [
            "( 367 , 3 )+( 33 , 5 ) = ( 400 , 8 )\n"
          ],
          "name": "stdout"
        }
      ]
    },
    {
      "cell_type": "markdown",
      "metadata": {
        "id": "aj0UO3eUaWEO",
        "colab_type": "text"
      },
      "source": [
        "Пример 1"
      ]
    },
    {
      "cell_type": "code",
      "metadata": {
        "id": "Vm6zoy6Mdj9e",
        "colab_type": "code",
        "outputId": "07df307b-3873-4a2a-b6f9-d55638089122",
        "colab": {
          "base_uri": "https://localhost:8080/",
          "height": 248
        }
      },
      "source": [
        "# coding=UTF-8\n",
        "class TestClass:\n",
        "\n",
        "    def __init__(self):\n",
        "        self.public_variable = \"I'm public!\"\n",
        "        self.__private_variable = \"I'm too shy to be public!\"\n",
        "\n",
        "    def get_public_variable(self):\n",
        "        return self.public_variable\n",
        "\n",
        "    def get_private_variable(self):\n",
        "        return self.__private_variable\n",
        "\n",
        "if __name__ == \"__main__\":\n",
        "    test_class = TestClass()\n",
        "    print(\" \".join([\"Public variable:\", test_class.get_public_variable()]))\n",
        "    print(\" \".join([\"Public variable:\", test_class.public_variable]))\n",
        "\n",
        "    print(\" \".join([\"Private variable:\", test_class.get_private_variable()]))\n",
        "    print(\" \".join([\"Private variable:\", test_class._private_variable]))"
      ],
      "execution_count": 0,
      "outputs": [
        {
          "output_type": "stream",
          "text": [
            "Public variable: I'm public!\n",
            "Public variable: I'm public!\n",
            "Private variable: I'm too shy to be public!\n"
          ],
          "name": "stdout"
        },
        {
          "output_type": "error",
          "ename": "AttributeError",
          "evalue": "ignored",
          "traceback": [
            "\u001b[0;31m---------------------------------------------------------------------------\u001b[0m",
            "\u001b[0;31mAttributeError\u001b[0m                            Traceback (most recent call last)",
            "\u001b[0;32m<ipython-input-2-b54941b0f4fd>\u001b[0m in \u001b[0;36m<module>\u001b[0;34m()\u001b[0m\n\u001b[1;32m     17\u001b[0m \u001b[0;34m\u001b[0m\u001b[0m\n\u001b[1;32m     18\u001b[0m     \u001b[0mprint\u001b[0m\u001b[0;34m(\u001b[0m\u001b[0;34m\" \"\u001b[0m\u001b[0;34m.\u001b[0m\u001b[0mjoin\u001b[0m\u001b[0;34m(\u001b[0m\u001b[0;34m[\u001b[0m\u001b[0;34m\"Private variable:\"\u001b[0m\u001b[0;34m,\u001b[0m \u001b[0mtest_class\u001b[0m\u001b[0;34m.\u001b[0m\u001b[0mget_private_variable\u001b[0m\u001b[0;34m(\u001b[0m\u001b[0;34m)\u001b[0m\u001b[0;34m]\u001b[0m\u001b[0;34m)\u001b[0m\u001b[0;34m)\u001b[0m\u001b[0;34m\u001b[0m\u001b[0;34m\u001b[0m\u001b[0m\n\u001b[0;32m---> 19\u001b[0;31m     \u001b[0mprint\u001b[0m\u001b[0;34m(\u001b[0m\u001b[0;34m\" \"\u001b[0m\u001b[0;34m.\u001b[0m\u001b[0mjoin\u001b[0m\u001b[0;34m(\u001b[0m\u001b[0;34m[\u001b[0m\u001b[0;34m\"Private variable:\"\u001b[0m\u001b[0;34m,\u001b[0m \u001b[0mtest_class\u001b[0m\u001b[0;34m.\u001b[0m\u001b[0m_private_variable\u001b[0m\u001b[0;34m]\u001b[0m\u001b[0;34m)\u001b[0m\u001b[0;34m)\u001b[0m\u001b[0;34m\u001b[0m\u001b[0;34m\u001b[0m\u001b[0m\n\u001b[0m",
            "\u001b[0;31mAttributeError\u001b[0m: 'TestClass' object has no attribute '_private_variable'"
          ]
        }
      ]
    },
    {
      "cell_type": "markdown",
      "metadata": {
        "id": "FvSFNdNLacmD",
        "colab_type": "text"
      },
      "source": [
        "Пример 2"
      ]
    },
    {
      "cell_type": "code",
      "metadata": {
        "id": "8kHXWNzuafwW",
        "colab_type": "code",
        "colab": {
          "base_uri": "https://localhost:8080/",
          "height": 34
        },
        "outputId": "3683a2a9-a69d-4d45-a194-91f1277e9923"
      },
      "source": [
        "class UniversityMember:\n",
        "    passToUniversity = ''\n",
        "    status = True\n",
        "\n",
        "    def checkStatus(self):\n",
        "        return self.status\n",
        "\n",
        "    def dismiss(self):\n",
        "        self.status = False\n",
        "        self.pass_to_university = None\n",
        "        \n",
        "class Student(UniversityMember):\n",
        "    group = None\n",
        "\n",
        "class Teacher(UniversityMember):\n",
        "    cathedral = None\n",
        "\n",
        "class Administrator(UniversityMember):\n",
        "    pass\n",
        "\n"
      ],
      "execution_count": 27,
      "outputs": [
        {
          "output_type": "stream",
          "text": [
            "True\n"
          ],
          "name": "stdout"
        }
      ]
    },
    {
      "cell_type": "markdown",
      "metadata": {
        "id": "Mp1mRXBuaqwo",
        "colab_type": "text"
      },
      "source": [
        "Пример 3"
      ]
    },
    {
      "cell_type": "code",
      "metadata": {
        "id": "-YwVncLKatcI",
        "colab_type": "code",
        "colab": {
          "base_uri": "https://localhost:8080/",
          "height": 68
        },
        "outputId": "a8dfdd6d-b184-4cd7-897c-e775885761de"
      },
      "source": [
        "import datetime\n",
        "class Person:\n",
        "    def __init__(self, name, age):\n",
        "        self.name = name\n",
        "        self.age = age\n",
        "\n",
        "    # classmethod чтобы создать объект по году рождения,\n",
        "    # \"альтернативный\" конструктор\n",
        "    @classmethod\n",
        "    def fromBirthYear(cls, name, year):\n",
        "        return cls(name, datetime.date.today().year - year)\n",
        "\n",
        "    # статический метод,чтобы проверить совершеннолетие\n",
        "    @staticmethod\n",
        "    def isAdult(age):\n",
        "        return age > 18\n",
        "\n",
        "person1 = Person('Петя', 21)\n",
        "person2 = Person.fromBirthYear('Петя', 1996)\n",
        "\n",
        "print(person1.age)\n",
        "print(person2.age)\n",
        "\n",
        "# print the result\n",
        "print(Person.isAdult(22))"
      ],
      "execution_count": 22,
      "outputs": [
        {
          "output_type": "stream",
          "text": [
            "21\n",
            "24\n",
            "True\n"
          ],
          "name": "stdout"
        }
      ]
    }
  ]
}